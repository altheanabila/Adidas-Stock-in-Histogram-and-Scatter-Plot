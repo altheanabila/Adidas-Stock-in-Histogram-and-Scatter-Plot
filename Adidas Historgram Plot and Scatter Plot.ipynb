{
 "cells": [
  {
   "cell_type": "code",
   "execution_count": 1,
   "metadata": {},
   "outputs": [],
   "source": [
    "import pandas as pd\n",
    "import matplotlib.pyplot as plt\n",
    "import seaborn as sn\n",
    "import numpy as np"
   ]
  },
  {
   "cell_type": "code",
   "execution_count": 53,
   "metadata": {},
   "outputs": [],
   "source": [
    "ADS = pd.read_csv('ADS.csv')"
   ]
  },
  {
   "cell_type": "code",
   "execution_count": 54,
   "metadata": {},
   "outputs": [
    {
     "data": {
      "text/html": [
       "<div>\n",
       "<style scoped>\n",
       "    .dataframe tbody tr th:only-of-type {\n",
       "        vertical-align: middle;\n",
       "    }\n",
       "\n",
       "    .dataframe tbody tr th {\n",
       "        vertical-align: top;\n",
       "    }\n",
       "\n",
       "    .dataframe thead th {\n",
       "        text-align: right;\n",
       "    }\n",
       "</style>\n",
       "<table border=\"1\" class=\"dataframe\">\n",
       "  <thead>\n",
       "    <tr style=\"text-align: right;\">\n",
       "      <th></th>\n",
       "      <th>Date</th>\n",
       "      <th>Open</th>\n",
       "      <th>High</th>\n",
       "      <th>Low</th>\n",
       "      <th>Close</th>\n",
       "      <th>Adj Close</th>\n",
       "      <th>Volume</th>\n",
       "    </tr>\n",
       "  </thead>\n",
       "  <tbody>\n",
       "    <tr>\n",
       "      <th>0</th>\n",
       "      <td>2020-04-14</td>\n",
       "      <td>227.800003</td>\n",
       "      <td>229.000000</td>\n",
       "      <td>222.300003</td>\n",
       "      <td>224.899994</td>\n",
       "      <td>220.465347</td>\n",
       "      <td>750236</td>\n",
       "    </tr>\n",
       "    <tr>\n",
       "      <th>1</th>\n",
       "      <td>2020-04-15</td>\n",
       "      <td>222.000000</td>\n",
       "      <td>223.899994</td>\n",
       "      <td>213.600006</td>\n",
       "      <td>214.300003</td>\n",
       "      <td>210.074371</td>\n",
       "      <td>1038603</td>\n",
       "    </tr>\n",
       "    <tr>\n",
       "      <th>2</th>\n",
       "      <td>2020-04-16</td>\n",
       "      <td>214.500000</td>\n",
       "      <td>215.899994</td>\n",
       "      <td>209.600006</td>\n",
       "      <td>211.699997</td>\n",
       "      <td>207.525635</td>\n",
       "      <td>821745</td>\n",
       "    </tr>\n",
       "    <tr>\n",
       "      <th>3</th>\n",
       "      <td>2020-04-17</td>\n",
       "      <td>217.399994</td>\n",
       "      <td>223.500000</td>\n",
       "      <td>216.699997</td>\n",
       "      <td>218.699997</td>\n",
       "      <td>214.387604</td>\n",
       "      <td>1279772</td>\n",
       "    </tr>\n",
       "    <tr>\n",
       "      <th>4</th>\n",
       "      <td>2020-04-20</td>\n",
       "      <td>220.399994</td>\n",
       "      <td>222.800003</td>\n",
       "      <td>217.699997</td>\n",
       "      <td>221.600006</td>\n",
       "      <td>217.230438</td>\n",
       "      <td>617101</td>\n",
       "    </tr>\n",
       "    <tr>\n",
       "      <th>...</th>\n",
       "      <td>...</td>\n",
       "      <td>...</td>\n",
       "      <td>...</td>\n",
       "      <td>...</td>\n",
       "      <td>...</td>\n",
       "      <td>...</td>\n",
       "      <td>...</td>\n",
       "    </tr>\n",
       "    <tr>\n",
       "      <th>247</th>\n",
       "      <td>2021-04-06</td>\n",
       "      <td>276.000000</td>\n",
       "      <td>277.649994</td>\n",
       "      <td>272.200012</td>\n",
       "      <td>276.000000</td>\n",
       "      <td>276.000000</td>\n",
       "      <td>707653</td>\n",
       "    </tr>\n",
       "    <tr>\n",
       "      <th>248</th>\n",
       "      <td>2021-04-07</td>\n",
       "      <td>276.000000</td>\n",
       "      <td>276.000000</td>\n",
       "      <td>270.500000</td>\n",
       "      <td>270.500000</td>\n",
       "      <td>270.500000</td>\n",
       "      <td>522754</td>\n",
       "    </tr>\n",
       "    <tr>\n",
       "      <th>249</th>\n",
       "      <td>2021-04-08</td>\n",
       "      <td>271.799988</td>\n",
       "      <td>277.549988</td>\n",
       "      <td>270.750000</td>\n",
       "      <td>276.750000</td>\n",
       "      <td>276.750000</td>\n",
       "      <td>521307</td>\n",
       "    </tr>\n",
       "    <tr>\n",
       "      <th>250</th>\n",
       "      <td>2021-04-09</td>\n",
       "      <td>276.850006</td>\n",
       "      <td>282.350006</td>\n",
       "      <td>275.600006</td>\n",
       "      <td>280.000000</td>\n",
       "      <td>280.000000</td>\n",
       "      <td>744033</td>\n",
       "    </tr>\n",
       "    <tr>\n",
       "      <th>251</th>\n",
       "      <td>2021-04-12</td>\n",
       "      <td>281.950012</td>\n",
       "      <td>284.200012</td>\n",
       "      <td>280.649994</td>\n",
       "      <td>281.600006</td>\n",
       "      <td>281.600006</td>\n",
       "      <td>565495</td>\n",
       "    </tr>\n",
       "  </tbody>\n",
       "</table>\n",
       "<p>252 rows × 7 columns</p>\n",
       "</div>"
      ],
      "text/plain": [
       "           Date        Open        High         Low       Close   Adj Close  \\\n",
       "0    2020-04-14  227.800003  229.000000  222.300003  224.899994  220.465347   \n",
       "1    2020-04-15  222.000000  223.899994  213.600006  214.300003  210.074371   \n",
       "2    2020-04-16  214.500000  215.899994  209.600006  211.699997  207.525635   \n",
       "3    2020-04-17  217.399994  223.500000  216.699997  218.699997  214.387604   \n",
       "4    2020-04-20  220.399994  222.800003  217.699997  221.600006  217.230438   \n",
       "..          ...         ...         ...         ...         ...         ...   \n",
       "247  2021-04-06  276.000000  277.649994  272.200012  276.000000  276.000000   \n",
       "248  2021-04-07  276.000000  276.000000  270.500000  270.500000  270.500000   \n",
       "249  2021-04-08  271.799988  277.549988  270.750000  276.750000  276.750000   \n",
       "250  2021-04-09  276.850006  282.350006  275.600006  280.000000  280.000000   \n",
       "251  2021-04-12  281.950012  284.200012  280.649994  281.600006  281.600006   \n",
       "\n",
       "      Volume  \n",
       "0     750236  \n",
       "1    1038603  \n",
       "2     821745  \n",
       "3    1279772  \n",
       "4     617101  \n",
       "..       ...  \n",
       "247   707653  \n",
       "248   522754  \n",
       "249   521307  \n",
       "250   744033  \n",
       "251   565495  \n",
       "\n",
       "[252 rows x 7 columns]"
      ]
     },
     "execution_count": 54,
     "metadata": {},
     "output_type": "execute_result"
    }
   ],
   "source": [
    "ADS"
   ]
  },
  {
   "cell_type": "code",
   "execution_count": 55,
   "metadata": {},
   "outputs": [
    {
     "data": {
      "text/plain": [
       "<function matplotlib.pyplot.show(*args, **kw)>"
      ]
     },
     "execution_count": 55,
     "metadata": {},
     "output_type": "execute_result"
    },
    {
     "data": {
      "image/png": "[encoded data removed]",
      "text/plain": [
       "<Figure size 432x288 with 1 Axes>"
      ]
     },
     "metadata": {
      "needs_background": "light"
     },
     "output_type": "display_data"
    }
   ],
   "source": [
    "plt.hist(ADS['Close'])\n",
    "plt.xlabel('Close(in US Dollars)')\n",
    "plt.show"
   ]
  },
  {
   "cell_type": "code",
   "execution_count": 60,
   "metadata": {},
   "outputs": [
    {
     "data": {
      "image/png": "[encoded data removed]",
      "text/plain": [
       "<Figure size 432x288 with 1 Axes>"
      ]
     },
     "metadata": {
      "needs_background": "light"
     },
     "output_type": "display_data"
    }
   ],
   "source": [
    "plt.scatter(x = ADS['Date'], y = ADS['Close'])\n",
    "plt.xlabel('14 Apr 2020 - 12 Apr 2021')\n",
    "plt.ylabel('Closing Price')\n",
    "plt.show()"
   ]
  },
  {
   "cell_type": "code",
   "execution_count": 63,
   "metadata": {},
   "outputs": [
    {
     "data": {
      "image/png": "[encoded data removed]",
      "text/plain": [
       "<Figure size 432x288 with 1 Axes>"
      ]
     },
     "metadata": {
      "needs_background": "light"
     },
     "output_type": "display_data"
    }
   ],
   "source": [
    "plt.scatter(x = ADS['Date'], y = ADS['Close'], s = 5)\n",
    "plt.xlabel('14 Apr 2020 - 12 Apr 2021')\n",
    "plt.ylabel('Closing Price')\n",
    "plt.show()"
   ]
  },
  {
   "cell_type": "code",
   "execution_count": null,
   "metadata": {},
   "outputs": [],
   "source": []
  }
 ],
 "metadata": {
  "kernelspec": {
   "display_name": "Python 3",
   "language": "python",
   "name": "python3"
  },
  "language_info": {
   "codemirror_mode": {
    "name": "ipython",
    "version": 3
   },
   "file_extension": ".py",
   "mimetype": "text/x-python",
   "name": "python",
   "nbconvert_exporter": "python",
   "pygments_lexer": "ipython3",
   "version": "3.8.3"
  }
 },
 "nbformat": 4,
 "nbformat_minor": 4
}
